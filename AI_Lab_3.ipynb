{
  "nbformat": 4,
  "nbformat_minor": 0,
  "metadata": {
    "colab": {
      "provenance": [],
      "toc_visible": true
    },
    "kernelspec": {
      "name": "python3",
      "display_name": "Python 3"
    },
    "language_info": {
      "name": "python"
    }
  },
  "cells": [
    {
      "cell_type": "markdown",
      "source": [
        "#Lab 3 AI"
      ],
      "metadata": {
        "id": "EPzYgc5d931R"
      }
    },
    {
      "cell_type": "markdown",
      "source": [],
      "metadata": {
        "id": "BCEUm4UB9-Vu"
      }
    },
    {
      "cell_type": "markdown",
      "source": [
        "#program to find numbers divisible by 7 andmultiple of 5 between range of 1500 and 2700"
      ],
      "metadata": {
        "id": "KC6FY2ke_y81"
      }
    },
    {
      "cell_type": "code",
      "source": [
        "for i  in range (1500, 2701):\n",
        "  if (i%7==0) and (i%5==0):\n",
        "    print(i)"
      ],
      "metadata": {
        "colab": {
          "base_uri": "https://localhost:8080/"
        },
        "id": "j2MdUjG1_zXV",
        "outputId": "281d345b-0285-4cda-ff0d-f87e559e5c43"
      },
      "execution_count": null,
      "outputs": [
        {
          "output_type": "stream",
          "name": "stdout",
          "text": [
            "1505\n",
            "1540\n",
            "1575\n",
            "1610\n",
            "1645\n",
            "1680\n",
            "1715\n",
            "1750\n",
            "1785\n",
            "1820\n",
            "1855\n",
            "1890\n",
            "1925\n",
            "1960\n",
            "1995\n",
            "2030\n",
            "2065\n",
            "2100\n",
            "2135\n",
            "2170\n",
            "2205\n",
            "2240\n",
            "2275\n",
            "2310\n",
            "2345\n",
            "2380\n",
            "2415\n",
            "2450\n",
            "2485\n",
            "2520\n",
            "2555\n",
            "2590\n",
            "2625\n",
            "2660\n",
            "2695\n"
          ]
        }
      ]
    },
    {
      "cell_type": "markdown",
      "source": [
        "#converter for temperature"
      ],
      "metadata": {
        "id": "sZ6_RNUBA7_g"
      }
    },
    {
      "cell_type": "code",
      "source": [
        "def convert_celsius_to_fahrenheit(celsius):\n",
        "  \"\"\"Converts Celsius to Fahrenheit.\"\"\"\n",
        "  fahrenheit = (9/5) * celsius + 32\n",
        "  return fahrenheit\n",
        "\n",
        "def convert_fahrenheit_to_celsius(fahrenheit):\n",
        "  \"\"\"Converts Fahrenheit to Celsius.\"\"\"\n",
        "  celsius = (5/9) * (fahrenheit - 32)\n",
        "  return celsius\n",
        "\n",
        "# Get user input\n",
        "temperature_value = float(input(\"Enter the temperature value: \"))\n",
        "temperature_unit = input(\"Enter the unit (C for Celsius, F for Fahrenheit): \").upper()\n",
        "\n",
        "# Perform conversion and print result\n",
        "if temperature_unit == 'C':\n",
        "  converted_temperature = convert_celsius_to_fahrenheit(temperature_value)\n",
        "  print(f\"{temperature_value} degrees Celsius is equal to {converted_temperature} degrees Fahrenheit.\")\n",
        "elif temperature_unit == 'F':\n",
        "  converted_temperature = convert_fahrenheit_to_celsius(temperature_value)\n",
        "  print(f\"{temperature_value} degrees Fahrenheit is equal to {converted_temperature} degrees Celsius.\")\n",
        "else:\n",
        "  print(\"Invalid unit. Please enter C or F.\")"
      ],
      "metadata": {
        "colab": {
          "base_uri": "https://localhost:8080/"
        },
        "id": "bo97FN9GC8ag",
        "outputId": "67af4234-a3a4-4c3c-eceb-befb0611aa46"
      },
      "execution_count": null,
      "outputs": [
        {
          "output_type": "stream",
          "name": "stdout",
          "text": [
            "Enter the temperature value: 60\n",
            "Enter the unit (C for Celsius, F for Fahrenheit): c\n",
            "60.0 degrees Celsius is equal to 140.0 degrees Fahrenheit.\n"
          ]
        }
      ]
    },
    {
      "cell_type": "markdown",
      "source": [
        "#Program to guess a number between 1 to 9"
      ],
      "metadata": {
        "id": "ygu2_1mjE4Vf"
      }
    },
    {
      "cell_type": "code",
      "source": [
        "x = 5\n",
        "while True:\n",
        "  guess = int(input(\"guess a number between 1 to 9:  \"))\n",
        "  if guess == x :\n",
        "    print(\"Congratulations! you guessed a number prcisely\")\n",
        "    break\n",
        "  else:\n",
        "    print(\"plz try again !\")"
      ],
      "metadata": {
        "colab": {
          "base_uri": "https://localhost:8080/"
        },
        "id": "JcbiF0-jEhQ8",
        "outputId": "252f23fc-331c-473d-dd4d-7e783793bfa9"
      },
      "execution_count": null,
      "outputs": [
        {
          "output_type": "stream",
          "name": "stdout",
          "text": [
            "guess a number between 1 to 9:  7\n",
            "plz try again !\n",
            "guess a number between 1 to 9:  9\n",
            "plz try again !\n",
            "guess a number between 1 to 9:  5\n",
            "Congratulations you guessed a number prcisely\n"
          ]
        }
      ]
    },
    {
      "cell_type": "markdown",
      "source": [
        "#Design a pettern using nested loop"
      ],
      "metadata": {
        "id": "airlgpQJHFGp"
      }
    },
    {
      "cell_type": "code",
      "source": [
        "# Increasing pattern\n",
        "for i in range(1, 6):\n",
        "    for j in range(i):\n",
        "        print(\"*\", end=\"\")\n",
        "    print()\n",
        "\n",
        "# Decreasing pattern\n",
        "for i in range(4, 0, -1):\n",
        "    for j in range(i):\n",
        "        print(\"*\", end=\"\")\n",
        "    print()"
      ],
      "metadata": {
        "id": "fY0tc5DoG4ir",
        "colab": {
          "base_uri": "https://localhost:8080/"
        },
        "outputId": "c838f7fd-dbdf-4953-ef73-9e1ff1acd135"
      },
      "execution_count": 44,
      "outputs": [
        {
          "output_type": "stream",
          "name": "stdout",
          "text": [
            "*\n",
            "**\n",
            "***\n",
            "****\n",
            "*****\n",
            "****\n",
            "***\n",
            "**\n",
            "*\n"
          ]
        }
      ]
    },
    {
      "cell_type": "markdown",
      "source": [
        "#Reverse the accepted words from the user"
      ],
      "metadata": {
        "id": "V8MUXoQIIXyQ"
      }
    },
    {
      "cell_type": "code",
      "source": [
        "x = input(\"plz enter a word:  \")\n",
        "reversed_word = reversed(x)\n",
        "print(''.join(reversed_word))"
      ],
      "metadata": {
        "colab": {
          "base_uri": "https://localhost:8080/"
        },
        "id": "gsHoOiGeF4lY",
        "outputId": "acf318b6-0acf-48c9-914c-ae9f6b2bd935"
      },
      "execution_count": null,
      "outputs": [
        {
          "output_type": "stream",
          "name": "stdout",
          "text": [
            "plz enter a word:  zeyam ali\n",
            "ila mayez\n"
          ]
        }
      ]
    },
    {
      "cell_type": "markdown",
      "source": [
        "#A program to count the number of even and odd numbers from a series of number"
      ],
      "metadata": {
        "id": "9tsc_z-fFit_"
      }
    },
    {
      "cell_type": "code",
      "source": [
        "numbers = (1,2,3,4,5,6,7,8,9)\n",
        "count_even = 0\n",
        "count_odd =0\n",
        "for i in numbers:\n",
        "  if i%2==0:\n",
        "    count_even =count_even+1\n",
        "  else:\n",
        "    count_odd = count_odd+1\n",
        "\n",
        "print(f'\"count_even : \"{count_even}    \"count_odd : \"{count_odd}')\n"
      ],
      "metadata": {
        "colab": {
          "base_uri": "https://localhost:8080/"
        },
        "id": "XcY3Kh6YFw6O",
        "outputId": "c5161ae4-21bd-438e-d1c1-00ac88a7007d"
      },
      "execution_count": 9,
      "outputs": [
        {
          "output_type": "stream",
          "name": "stdout",
          "text": [
            "\"count_even : \"4    \"count_odd : \"5\n"
          ]
        }
      ]
    },
    {
      "cell_type": "markdown",
      "source": [
        "#A program which prints the item and its type from a list"
      ],
      "metadata": {
        "id": "DX7RglGlKXfg"
      }
    },
    {
      "cell_type": "code",
      "source": [
        "list = [1452,11.23,1+2j,True,'w3resource',(0,-1),[5,12],{\"class\":'V', \"section\":'A'}]"
      ],
      "metadata": {
        "id": "_euWUmSUItOZ"
      },
      "execution_count": null,
      "outputs": []
    },
    {
      "cell_type": "code",
      "source": [
        "print(list[2])\n",
        "print(type(list[2]))"
      ],
      "metadata": {
        "colab": {
          "base_uri": "https://localhost:8080/"
        },
        "id": "4ifIGdgVc6_V",
        "outputId": "c461d4db-eccc-4b18-9ad7-3ccaa5c4469c"
      },
      "execution_count": null,
      "outputs": [
        {
          "output_type": "stream",
          "name": "stdout",
          "text": [
            "(1+2j)\n",
            "<class 'complex'>\n"
          ]
        }
      ]
    },
    {
      "cell_type": "markdown",
      "source": [
        "#A program whhich prints all numbers from 0 to 6 except 3 and 6\n",
        "USE CONTINUE STATEMENT"
      ],
      "metadata": {
        "id": "-7BJ3ulhHbmF"
      }
    },
    {
      "cell_type": "code",
      "source": [
        "for i in range(0,7):\n",
        "  if i == 3 or i == 6:\n",
        "    continue\n",
        "  else:\n",
        "   print(i)"
      ],
      "metadata": {
        "id": "33xmvv-cdDXh",
        "colab": {
          "base_uri": "https://localhost:8080/"
        },
        "outputId": "c111b7e1-ba94-47cf-f662-06c6b6320eeb"
      },
      "execution_count": 19,
      "outputs": [
        {
          "output_type": "stream",
          "name": "stdout",
          "text": [
            "0\n",
            "1\n",
            "2\n",
            "4\n",
            "5\n"
          ]
        }
      ]
    },
    {
      "cell_type": "markdown",
      "source": [
        "#A program to get the Fibonacci series between 0 to 50"
      ],
      "metadata": {
        "id": "BCPvKV6PJceT"
      }
    },
    {
      "cell_type": "code",
      "source": [
        "list = []\n",
        "for i in range(0,50):\n",
        "  list.append(i)\n",
        "\n",
        "\n",
        "number_previous =list[0]\n",
        "number_current_previous = list[1]\n",
        "\n",
        "fibonacci_list = [0,1]\n",
        "for i in range(3,11):\n",
        "  fib_num = number_previous+number_current_previous\n",
        "  fibonacci_list.append(fib_num)\n",
        "  number_previous = number_current_previous\n",
        "  number_current_previous = fib_num\n",
        "\n",
        "\n",
        "print(fibonacci_list)\n",
        "\n",
        "\n"
      ],
      "metadata": {
        "colab": {
          "base_uri": "https://localhost:8080/"
        },
        "id": "9ISDsL5lIDQb",
        "outputId": "2843ae91-8ab4-49d1-e0a9-7c360cf142b5"
      },
      "execution_count": 26,
      "outputs": [
        {
          "output_type": "stream",
          "name": "stdout",
          "text": [
            "[0, 1, 1, 2, 3, 5, 8, 13, 21, 34]\n"
          ]
        }
      ]
    },
    {
      "cell_type": "markdown",
      "source": [
        "#A program which prints \"Fizz\" for numbers of multiple of 3 and print \"buzz\" for multipule of 5 and print \"FizzBuzz\" for both"
      ],
      "metadata": {
        "id": "cvWn3oNHOzQO"
      }
    },
    {
      "cell_type": "code",
      "source": [
        "for i in range(1,51):\n",
        "  if i%3==0 :\n",
        "    print(\"Fizz\")\n",
        "  elif(i%5==0):\n",
        "    print(\"Buzz\")\n",
        "  elif(i%3==0 and i%5==0):\n",
        "    print(\"FizzBuzz\")\n",
        "  else:\n",
        "    print(i)\n"
      ],
      "metadata": {
        "colab": {
          "base_uri": "https://localhost:8080/"
        },
        "id": "1P3-g46pLOAC",
        "outputId": "5cfa6909-f28e-4942-a291-ca6e0faebeb4"
      },
      "execution_count": 27,
      "outputs": [
        {
          "output_type": "stream",
          "name": "stdout",
          "text": [
            "1\n",
            "2\n",
            "Fizz\n",
            "4\n",
            "Buzz\n",
            "Fizz\n",
            "7\n",
            "8\n",
            "Fizz\n",
            "Buzz\n",
            "11\n",
            "Fizz\n",
            "13\n",
            "14\n",
            "Fizz\n",
            "16\n",
            "17\n",
            "Fizz\n",
            "19\n",
            "Buzz\n",
            "Fizz\n",
            "22\n",
            "23\n",
            "Fizz\n",
            "Buzz\n",
            "26\n",
            "Fizz\n",
            "28\n",
            "29\n",
            "Fizz\n",
            "31\n",
            "32\n",
            "Fizz\n",
            "34\n",
            "Buzz\n",
            "Fizz\n",
            "37\n",
            "38\n",
            "Fizz\n",
            "Buzz\n",
            "41\n",
            "Fizz\n",
            "43\n",
            "44\n",
            "Fizz\n",
            "46\n",
            "47\n",
            "Fizz\n",
            "49\n",
            "Buzz\n"
          ]
        }
      ]
    },
    {
      "cell_type": "markdown",
      "source": [
        "#A program that accepts sequence of charachter lines  and prints in lower case"
      ],
      "metadata": {
        "id": "aqLjxaHwP9JN"
      }
    },
    {
      "cell_type": "code",
      "source": [
        "string =  '''I AM ZEYAM ALI AN MACHINE LEARNING\n",
        " ENGINEER SPECIALIZED IN NEURAL NETWORKS'''\n",
        "print(string.lower())"
      ],
      "metadata": {
        "colab": {
          "base_uri": "https://localhost:8080/"
        },
        "id": "dwPaORhzP2dA",
        "outputId": "ea71161f-01bd-4470-8315-73df10991043"
      },
      "execution_count": 29,
      "outputs": [
        {
          "output_type": "stream",
          "name": "stdout",
          "text": [
            "i am zeyam ali an machine learning\n",
            " engineer specialized in neural networks\n"
          ]
        }
      ]
    },
    {
      "cell_type": "markdown",
      "source": [
        "# A program which accepts a binary number of 4 digits and print that  which is divisible of 5"
      ],
      "metadata": {
        "id": "m1ke_-ugRZeQ"
      }
    },
    {
      "cell_type": "code",
      "source": [
        "list = []\n",
        "for i in range(1,5):\n",
        "  x = int(input(\"plz enter 4 digits binary numbers : \"))\n",
        "  list.append(x)\n",
        "\n",
        "print(list)\n",
        "for i in range(len(list)):\n",
        "  if int(list[i])%5==0:\n",
        "    print(list[i])"
      ],
      "metadata": {
        "colab": {
          "base_uri": "https://localhost:8080/"
        },
        "id": "xp1KOiFLRNqT",
        "outputId": "28ac5bce-7b59-448a-b501-4d7d3a661769"
      },
      "execution_count": 34,
      "outputs": [
        {
          "output_type": "stream",
          "name": "stdout",
          "text": [
            "plz enter 4 digits binary numbers : 1100\n",
            "plz enter 4 digits binary numbers : 0011\n",
            "plz enter 4 digits binary numbers : 0010\n",
            "plz enter 4 digits binary numbers : 1010\n",
            "[1100, 11, 10, 1010]\n",
            "1100\n",
            "10\n",
            "1010\n"
          ]
        }
      ]
    },
    {
      "cell_type": "markdown",
      "source": [
        "#A progarm which accepts a tring and count alphabets and digit in it"
      ],
      "metadata": {
        "id": "31vzpkYoTxE8"
      }
    },
    {
      "cell_type": "code",
      "source": [
        "string = \"Python 3.2 \"\n",
        "count_alpha = 0\n",
        "count_digit = 0\n",
        "for char in string:\n",
        "  if char.isalpha():\n",
        "    count_alpha += 1\n",
        "  elif char.isdigit():\n",
        "    count_digit += 1\n",
        "\n",
        "print(\"Letters: \", count_alpha)\n",
        "print(\"Digits: \", count_digit)"
      ],
      "metadata": {
        "colab": {
          "base_uri": "https://localhost:8080/"
        },
        "id": "Gf0yUWHGSXg8",
        "outputId": "536c11a5-953f-496d-861a-9b423aa382d3"
      },
      "execution_count": 42,
      "outputs": [
        {
          "output_type": "stream",
          "name": "stdout",
          "text": [
            "Letters:  6\n",
            "Digits:  2\n"
          ]
        }
      ]
    },
    {
      "cell_type": "markdown",
      "source": [
        "#A program takes row(m) and column(n) as input and generates two_dimentional array and the elenments should be i*j"
      ],
      "metadata": {
        "id": "8FyvxElBXM_6"
      }
    },
    {
      "cell_type": "code",
      "source": [
        "# Get input for number of rows and columns\n",
        "m = int(input(\"Enter the number of rows: \"))\n",
        "n = int(input(\"Enter the number of columns: \"))\n",
        "\n",
        "# Create a 2D array filled with zeros\n",
        "array_2d = [[0 for j in range(n)] for i in range(m)]\n",
        "\n",
        "# Fill the array with i*j\n",
        "for i in range(m):\n",
        "  for j in range(n):\n",
        "    array_2d[i][j] = i * j\n",
        "\n",
        "# Print the 2D array\n",
        "print(array_2d)"
      ],
      "metadata": {
        "colab": {
          "base_uri": "https://localhost:8080/"
        },
        "id": "TyboSDxXUaV7",
        "outputId": "40f50c76-59f3-4f51-b305-9918b8695478"
      },
      "execution_count": 43,
      "outputs": [
        {
          "output_type": "stream",
          "name": "stdout",
          "text": [
            "Enter the number of rows: 4\n",
            "Enter the number of columns: 3\n",
            "[[0, 0, 0], [0, 1, 2], [0, 2, 4], [0, 3, 6]]\n"
          ]
        }
      ]
    },
    {
      "cell_type": "code",
      "source": [],
      "metadata": {
        "id": "cgOJnd7vYBiX"
      },
      "execution_count": null,
      "outputs": []
    }
  ]
}