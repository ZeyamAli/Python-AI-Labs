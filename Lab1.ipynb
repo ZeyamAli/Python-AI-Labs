{
  "nbformat": 4,
  "nbformat_minor": 0,
  "metadata": {
    "colab": {
      "provenance": [],
      "toc_visible": true
    },
    "kernelspec": {
      "name": "python3",
      "display_name": "Python 3"
    },
    "language_info": {
      "name": "python"
    }
  },
  "cells": [
    {
      "cell_type": "markdown",
      "source": [
        "#Comments in Python"
      ],
      "metadata": {
        "id": "MT3xXLB_37ir"
      }
    },
    {
      "cell_type": "code",
      "source": [
        "#print(this is a comment)\n",
        "print(\" Comment statement can not run or executeable\")"
      ],
      "metadata": {
        "colab": {
          "base_uri": "https://localhost:8080/"
        },
        "id": "oP87nJo64DCK",
        "outputId": "1b26353f-b3e3-4703-d95d-11c23468c020"
      },
      "execution_count": 13,
      "outputs": [
        {
          "output_type": "stream",
          "name": "stdout",
          "text": [
            " Comment statement can not run or executeable\n"
          ]
        }
      ]
    },
    {
      "cell_type": "markdown",
      "source": [
        "#Input & Output"
      ],
      "metadata": {
        "id": "7-jNJhA94KKA"
      }
    },
    {
      "cell_type": "code",
      "source": [
        "text = input(\"plz enter your name\")\n",
        "print(text)"
      ],
      "metadata": {
        "colab": {
          "base_uri": "https://localhost:8080/"
        },
        "id": "WaaT8u3k4IXw",
        "outputId": "02ead708-a28a-4c80-bd60-934b743b46a3"
      },
      "execution_count": 14,
      "outputs": [
        {
          "output_type": "stream",
          "name": "stdout",
          "text": [
            "plz enter your namezeyam Ali matharu\n",
            "zeyam Ali matharu\n"
          ]
        }
      ]
    },
    {
      "cell_type": "markdown",
      "source": [
        "#Multiple statements on a single line"
      ],
      "metadata": {
        "id": "dCjgK7PO4hYE"
      }
    },
    {
      "cell_type": "code",
      "source": [
        "print(\"zeyam\");print(\"zain\");print(\"rehan\")"
      ],
      "metadata": {
        "colab": {
          "base_uri": "https://localhost:8080/"
        },
        "id": "BzhKnxWV4nEn",
        "outputId": "46487ba2-f393-4d84-f2f7-d4ae1b03dde2"
      },
      "execution_count": 15,
      "outputs": [
        {
          "output_type": "stream",
          "name": "stdout",
          "text": [
            "zeyam\n",
            "zain\n",
            "rehan\n"
          ]
        }
      ]
    },
    {
      "cell_type": "markdown",
      "source": [
        "#Indentation"
      ],
      "metadata": {
        "id": "9tSY7oqk40dr"
      }
    },
    {
      "cell_type": "code",
      "source": [
        "\n",
        "'''\n",
        "x==0\n",
        "x = \"my name is zeyam ali\"\n",
        "if x == 0\n",
        "print(x)\n",
        "'''\n",
        "\n",
        "x=0\n",
        "x = \"my name is zeyam ali\"\n",
        "if x == 0:\n",
        " print(x)\n"
      ],
      "metadata": {
        "id": "vg0CE7j94vmS"
      },
      "execution_count": 16,
      "outputs": []
    },
    {
      "cell_type": "markdown",
      "source": [
        "#Use of Single and Tab Indentation"
      ],
      "metadata": {
        "id": "2-yE6WeY5SmH"
      }
    },
    {
      "cell_type": "code",
      "source": [
        "x=1\n",
        "if x>0:\n",
        "    print(\"we use FOUR SPACES for indentation\")\n",
        "if x<0:\n",
        "  print(\"we use a TAB for our indentation\")"
      ],
      "metadata": {
        "colab": {
          "base_uri": "https://localhost:8080/"
        },
        "id": "fauY1l3r4-77",
        "outputId": "5deb5b07-46f1-44f1-d264-f17e8378d6cb"
      },
      "execution_count": 17,
      "outputs": [
        {
          "output_type": "stream",
          "name": "stdout",
          "text": [
            "we use FOUR SPACES for indentation\n"
          ]
        }
      ]
    },
    {
      "cell_type": "markdown",
      "source": [
        "#Type Checking"
      ],
      "metadata": {
        "id": "vXhP2hjy6MZO"
      }
    },
    {
      "cell_type": "code",
      "source": [
        "#use type function\n",
        "x = 9.00\n",
        "print(type(x))"
      ],
      "metadata": {
        "colab": {
          "base_uri": "https://localhost:8080/"
        },
        "id": "8aZHXeuy6V3s",
        "outputId": "21041cc6-be11-44ca-f111-a6747697e93e"
      },
      "execution_count": 18,
      "outputs": [
        {
          "output_type": "stream",
          "name": "stdout",
          "text": [
            "<class 'float'>\n"
          ]
        }
      ]
    },
    {
      "cell_type": "code",
      "source": [
        "x = 9\n",
        "print(type(x))\n"
      ],
      "metadata": {
        "colab": {
          "base_uri": "https://localhost:8080/"
        },
        "id": "i9ANxibR6dwd",
        "outputId": "62bfcef6-94b9-4f7d-f237-efb4ab31210a"
      },
      "execution_count": 19,
      "outputs": [
        {
          "output_type": "stream",
          "name": "stdout",
          "text": [
            "<class 'int'>\n"
          ]
        }
      ]
    },
    {
      "cell_type": "code",
      "source": [
        "x = \"sharif\"\n",
        "print(type(x))"
      ],
      "metadata": {
        "colab": {
          "base_uri": "https://localhost:8080/"
        },
        "id": "F2zdr6YJ6jI2",
        "outputId": "8c44e816-916a-453b-f095-0c83fb29a952"
      },
      "execution_count": 20,
      "outputs": [
        {
          "output_type": "stream",
          "name": "stdout",
          "text": [
            "<class 'str'>\n"
          ]
        }
      ]
    },
    {
      "cell_type": "code",
      "source": [
        "x = str(9.00)\n",
        "print(type(x))"
      ],
      "metadata": {
        "colab": {
          "base_uri": "https://localhost:8080/"
        },
        "id": "T4Im8mvh6j_4",
        "outputId": "54d576ab-e129-4e43-c4cc-20b60132f5b1"
      },
      "execution_count": 22,
      "outputs": [
        {
          "output_type": "stream",
          "name": "stdout",
          "text": [
            "<class 'str'>\n"
          ]
        }
      ]
    },
    {
      "cell_type": "code",
      "source": [
        "#Boolean Class\n",
        "x = False\n",
        "print(type(x))"
      ],
      "metadata": {
        "colab": {
          "base_uri": "https://localhost:8080/"
        },
        "id": "tq6pPY1A6kdN",
        "outputId": "4a91e84d-f690-45aa-ae55-4014ad32c655"
      },
      "execution_count": 23,
      "outputs": [
        {
          "output_type": "stream",
          "name": "stdout",
          "text": [
            "<class 'bool'>\n"
          ]
        }
      ]
    },
    {
      "cell_type": "markdown",
      "source": [
        "#Special Chrachters in Python String"
      ],
      "metadata": {
        "id": "GLK9qvfz6x32"
      }
    },
    {
      "cell_type": "code",
      "source": [
        "print(\"Zeyam Ali s/o Ismat Ullah  (\\\\)  s/o Muhammad Sharif\")\n",
        "print(\"Zeyam Ali s/o Ismat Ullah  \\t  s/o Muhammad Sharif\")\n",
        "print(\"Zeyam Ali s/o Ismat Ullah s/o \\' Muhammad Sharif'\\ O.K\")\n",
        "print(\"Zeyam Ali s/o Ismat Ullah s/o   \\n   Muhammad Sharif\")\n"
      ],
      "metadata": {
        "colab": {
          "base_uri": "https://localhost:8080/"
        },
        "id": "xTo--AYB69ej",
        "outputId": "32e14ec2-210f-4946-c76d-9f697ba077fb"
      },
      "execution_count": 24,
      "outputs": [
        {
          "output_type": "stream",
          "name": "stdout",
          "text": [
            "Zeyam Ali s/o Ismat Ullah  (\\)  s/o Muhammad Sharif\n",
            "Zeyam Ali s/o Ismat Ullah  \t  s/o Muhammad Sharif\n",
            "Zeyam Ali s/o Ismat Ullah s/o ' Muhammad Sharif'\\ O.K\n",
            "Zeyam Ali s/o Ismat Ullah s/o   \n",
            "   Muhammad Sharif\n"
          ]
        }
      ]
    },
    {
      "cell_type": "markdown",
      "source": [
        "#List slicing  & indices"
      ],
      "metadata": {
        "id": "tCNtSomv7rt1"
      }
    },
    {
      "cell_type": "code",
      "source": [
        "list = [\"Zeyam\",\"Rehan\",\"Zain\",\"Hashim\",\"Ahsan\",\"Huzaifa\",\"Haroon\"]\n",
        "print(list[1:5])\n",
        "print(list[-1])\n",
        "print(list[2:])\n",
        "print(list[:5])\n",
        "print(list[1:5:2])\n",
        "print(list[::2])\n",
        "print(list[::-1])\n",
        "print(list[-1::-1])\n",
        "print(list[-1:-6:-1])\n",
        "print(list[-6:-1])\n",
        "print(list[2:5])"
      ],
      "metadata": {
        "colab": {
          "base_uri": "https://localhost:8080/"
        },
        "id": "si-zgnO67-4a",
        "outputId": "a15401b5-976f-4e15-f904-218a7771b4e0"
      },
      "execution_count": 26,
      "outputs": [
        {
          "metadata": {
            "tags": null
          },
          "name": "stdout",
          "output_type": "stream",
          "text": [
            "['Rehan', 'Zain', 'Hashim', 'Ahsan']\n",
            "Haroon\n",
            "['Zain', 'Hashim', 'Ahsan', 'Huzaifa', 'Haroon']\n",
            "['Zeyam', 'Rehan', 'Zain', 'Hashim', 'Ahsan']\n",
            "['Rehan', 'Hashim']\n",
            "['Zeyam', 'Zain', 'Ahsan', 'Haroon']\n",
            "['Haroon', 'Huzaifa', 'Ahsan', 'Hashim', 'Zain', 'Rehan', 'Zeyam']\n",
            "['Haroon', 'Huzaifa', 'Ahsan', 'Hashim', 'Zain', 'Rehan', 'Zeyam']\n",
            "['Haroon', 'Huzaifa', 'Ahsan', 'Hashim', 'Zain']\n",
            "['Rehan', 'Zain', 'Hashim', 'Ahsan', 'Huzaifa']\n",
            "['Zain', 'Hashim', 'Ahsan']\n"
          ]
        }
      ]
    },
    {
      "cell_type": "code",
      "source": [
        "#MOVE ONTO NEXT LAB (SECOND)"
      ],
      "metadata": {
        "id": "5ox1zSH88-2L"
      },
      "execution_count": 27,
      "outputs": []
    }
  ]
}