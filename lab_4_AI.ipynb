{
  "nbformat": 4,
  "nbformat_minor": 0,
  "metadata": {
    "colab": {
      "provenance": []
    },
    "kernelspec": {
      "name": "python3",
      "display_name": "Python 3"
    },
    "language_info": {
      "name": "python"
    }
  },
  "cells": [
    {
      "cell_type": "markdown",
      "source": [
        "**Task-1**"
      ],
      "metadata": {
        "id": "o8OcF9UTwtJQ"
      }
    },
    {
      "cell_type": "code",
      "execution_count": null,
      "metadata": {
        "id": "VyZh_5UxwpzT"
      },
      "outputs": [],
      "source": [
        "class Stack:\n",
        "    def __init__(self):\n",
        "        self.stack = []\n",
        "        print(\"Stack Created\")\n",
        "\n",
        "    def push(self, data):\n",
        "        self.stack.append(data)\n",
        "        print(data,\"Pushed into Stack\")\n",
        "\n",
        "    def pop(self):\n",
        "        if len(self.stack) == 0:\n",
        "            return \"Stack is Empty\"\n",
        "        else:\n",
        "            print(self.stack[-1],\"Popped from Stack\")\n",
        "            return self.stack.pop()\n",
        "\n",
        "    def peek(self):\n",
        "        if len(self.stack) == 0:\n",
        "            return \"Stack is Empty\"\n",
        "        else:\n",
        "            print(self.stack[-1] , \"is the Top Element\")\n",
        "            return self.stack[-1]\n",
        "\n",
        "    def display(self):\n",
        "        if len(self.stack) == 0:\n",
        "            return \"Stack is Empty\"\n",
        "        else:\n",
        "            return self.stack[::-1]\n",
        "\n",
        "\n",
        "\n",
        "stack = Stack()\n",
        "stack.push(10)\n",
        "stack.push(20)\n",
        "stack.push(30)\n",
        "stack.push(40)\n",
        "stack.push(50)\n",
        "stack.pop()\n",
        "stack.peek()\n",
        "print(stack.display())"
      ]
    },
    {
      "cell_type": "markdown",
      "source": [
        "#Task-2"
      ],
      "metadata": {
        "id": "B0G4ByTZwy-A"
      }
    },
    {
      "cell_type": "code",
      "source": [
        "class Queue:\n",
        "    def __init__(self):\n",
        "        self.queue = []\n",
        "        print(\"Queue Created\")\n",
        "\n",
        "    def enqueue(self, data):\n",
        "        self.queue.append(data)\n",
        "        print(data,\"Enqueued into Queue\")\n",
        "\n",
        "    def dequeue(self):\n",
        "        if len(self.queue) == 0:\n",
        "            return \"Queue is Empty\"\n",
        "        else:\n",
        "            print(self.queue[0],\"Dequeued from Queue\")\n",
        "            return self.queue.pop(0)\n",
        "\n",
        "    def peek(self):\n",
        "        if len(self.queue) == 0:\n",
        "            return \"Queue is Empty\"\n",
        "        else:\n",
        "            print(self.queue[0] , \"is the Front Element\")\n",
        "            return self.queue[0]\n",
        "\n",
        "    def display(self):\n",
        "        if len(self.queue) == 0:\n",
        "            return \"Queue is Empty\"\n",
        "        else:\n",
        "            return self.queue\n",
        "\n",
        "\n",
        "queue = Queue()\n",
        "queue.enqueue(10)\n",
        "queue.enqueue(20)\n",
        "queue.enqueue(30)\n",
        "queue.enqueue(40)\n",
        "queue.enqueue(50)\n",
        "queue.dequeue()\n",
        "queue.peek()\n",
        "queue.enqueue(60)\n",
        "queue.dequeue()\n",
        "print(queue.display())"
      ],
      "metadata": {
        "id": "ij1qImYLw1Sf"
      },
      "execution_count": null,
      "outputs": []
    },
    {
      "cell_type": "markdown",
      "source": [
        "#Task-3"
      ],
      "metadata": {
        "id": "En_nqqalxBVH"
      }
    },
    {
      "cell_type": "code",
      "source": [
        "\n",
        "def binary_search(arr, x):\n",
        "    low = 0\n",
        "    high = len(arr) - 1\n",
        "    mid = 0\n",
        "\n",
        "    while low <= high:\n",
        "        mid = (high + low) // 2\n",
        "\n",
        "        # If x is greater, ignore left half\n",
        "        if arr[mid] < x:\n",
        "            low = mid + 1\n",
        "\n",
        "        # If x is smaller, ignore right half\n",
        "        elif arr[mid] > x:\n",
        "            high = mid - 1\n",
        "\n",
        "        # x is present at mid\n",
        "        else:\n",
        "            return mid\n",
        "\n",
        "    # If we reach here, then the element was not present\n",
        "    return -1\n",
        "\n",
        "\n",
        "# Test array\n",
        "arr = [6,12,17,23,38,45,77,84,90]\n",
        "\n",
        "# Function call\n",
        "result = binary_search(arr, 45)\n",
        "\n",
        "if result != -1:\n",
        "    print(\"Element is present at index\", str(result))\n",
        "else:\n",
        "    print(\"Element is not present in array\")"
      ],
      "metadata": {
        "id": "Rg0Qh_1JxDBR"
      },
      "execution_count": null,
      "outputs": []
    }
  ]
}