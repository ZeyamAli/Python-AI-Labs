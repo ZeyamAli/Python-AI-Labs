{
  "nbformat": 4,
  "nbformat_minor": 0,
  "metadata": {
    "colab": {
      "provenance": []
    },
    "kernelspec": {
      "name": "python3",
      "display_name": "Python 3"
    },
    "language_info": {
      "name": "python"
    }
  },
  "cells": [
    {
      "cell_type": "markdown",
      "source": [
        "**Task-1**"
      ],
      "metadata": {
        "id": "o8OcF9UTwtJQ"
      }
    },
    {
      "cell_type": "code",
      "execution_count": null,
      "metadata": {
        "id": "VyZh_5UxwpzT"
      },
      "outputs": [],
      "source": [
        "import networkx as nx\n",
        "import matplotlib.pyplot as plt\n",
        "\n",
        "graph = {\n",
        "    0: [1, 4],\n",
        "    1: [0, 2, 3, 4],\n",
        "    2: [1, 3],\n",
        "    3: [1, 2, 4],\n",
        "    4: [0, 3]\n",
        "}\n",
        "\n",
        "G = nx.Graph()\n",
        "\n",
        "for node in graph:\n",
        "    for neighbor in graph[node]:\n",
        "        G.add_edge(node, neighbor)\n",
        "\n",
        "pos = nx.spring_layout(G)  # positions for all nodes\n",
        "nx.draw(G, pos, with_labels=True, node_color='skyblue', node_size=2000, edge_color='k', font_size=15, font_weight='bold')\n",
        "\n",
        "plt.title(\"Graph Visualization\")\n",
        "plt.show()"
      ]
    },
    {
      "cell_type": "markdown",
      "source": [
        "#Task-2"
      ],
      "metadata": {
        "id": "B0G4ByTZwy-A"
      }
    },
    {
      "cell_type": "code",
      "source": [
        "from collections import deque\n",
        "\n",
        "def bfs_find_target(graph, start, target):\n",
        "    explored = set()\n",
        "    frontier = deque([start])\n",
        "\n",
        "    while frontier:\n",
        "        node = frontier.popleft()\n",
        "        print(f\"Visiting {node}\")\n",
        "\n",
        "        if node == target:\n",
        "            print(f\"Found target {target}\")\n",
        "            return True\n",
        "\n",
        "        explored.add(node)\n",
        "\n",
        "        for neighbor in graph[node]:\n",
        "            if neighbor not in explored:\n",
        "                frontier.append(neighbor)\n",
        "\n",
        "    print(f\"Target {target} not found\")\n",
        "    return False\n",
        "\n",
        "# Example graph represented as an adjacency list\n",
        "graph = {\n",
        "    'A': ['B', 'F', 'D', 'E'],\n",
        "    'B': ['K', 'J'],\n",
        "    'F': [],\n",
        "    'D': ['G'],\n",
        "    'E': ['C', 'H', 'I'],\n",
        "    'K': ['N', 'M'],\n",
        "    'J': [],\n",
        "    'G': ['D'],\n",
        "    'C': [],\n",
        "    'H': [],\n",
        "    'I': ['L'],\n",
        "    'N': [],\n",
        "    'M': [],\n",
        "    'L': [],\n",
        "}\n",
        "\n",
        "# Starting BFS from vertex 'A' to find 'L'\n",
        "print(\"BFS traversal to find 'L' starting from vertex 'A':\")\n",
        "bfs_find_target(graph, 'A', 'G')"
      ],
      "metadata": {
        "id": "ij1qImYLw1Sf"
      },
      "execution_count": null,
      "outputs": []
    },
    {
      "cell_type": "markdown",
      "source": [
        "#Task-3"
      ],
      "metadata": {
        "id": "En_nqqalxBVH"
      }
    },
    {
      "cell_type": "code",
      "source": [
        "import heapq\n",
        "\n",
        "class PriorityQueue:\n",
        "    def __init__(self):\n",
        "        self.elements = []\n",
        "\n",
        "    def is_empty(self):\n",
        "        return len(self.elements) == 0\n",
        "\n",
        "    def put(self, item, priority):\n",
        "        heapq.heappush(self.elements, (priority, item))\n",
        "\n",
        "    def get(self):\n",
        "        return heapq.heappop(self.elements)[1]\n",
        "\n",
        "\n",
        "pq = PriorityQueue()\n",
        "\n",
        "pq.put(\"task1\", 3)\n",
        "pq.put(\"task2\", 1)\n",
        "pq.put(\"task3\", 2)\n",
        "\n",
        "while not pq.is_empty():\n",
        "    task = pq.get()\n",
        "    print(task)"
      ],
      "metadata": {
        "id": "Rg0Qh_1JxDBR"
      },
      "execution_count": null,
      "outputs": []
    }
  ]
}