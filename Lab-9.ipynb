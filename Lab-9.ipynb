{
  "nbformat": 4,
  "nbformat_minor": 0,
  "metadata": {
    "colab": {
      "provenance": [],
      "toc_visible": true
    },
    "kernelspec": {
      "name": "python3",
      "display_name": "Python 3"
    },
    "language_info": {
      "name": "python"
    }
  },
  "cells": [
    {
      "cell_type": "code",
      "execution_count": null,
      "metadata": {
        "id": "BBQjJKklKukh"
      },
      "outputs": [],
      "source": [
        "#Task-1\n",
        "\n",
        "# Implement Minimax Algo in python.(pseudocode is given in\n",
        "# chapter slides as well as in this manual below)\n",
        "\n",
        "# Code:\n",
        "\n",
        "def minimax(node, depth, maximizingPlayer):\n",
        "    if depth == 0 or len(node[1]) == 0:\n",
        "        return node[0]\n",
        "    if maximizingPlayer:\n",
        "        maxEva = float('-inf')\n",
        "        for child in node[1]:\n",
        "            eva = minimax(child, depth - 1, False)\n",
        "            maxEva = max(maxEva, eva)\n",
        "        return maxEva\n",
        "    else:\n",
        "        minEva = float('inf')\n",
        "        for child in node[1]:\n",
        "            eva = minimax(child, depth - 1, True)\n",
        "            minEva = min(minEva, eva)\n",
        "        return minEva\n",
        "\n",
        "tree = [3, [[5, [[9, [[8, [], []], [6, [], []]]], [6, [], []]], [2, [[3, [[1, [], []]], [7, [], []]]]]]]]\n",
        "\n",
        "print(minimax(tree, 3, True)) # 6\n",
        "\n",
        "\n",
        "\n"
      ]
    },
    {
      "cell_type": "code",
      "source": [
        "#Task-2\n",
        "\n",
        "\n",
        "# Implement alpha beta pruning in python. .(pseudocode is given in\n",
        "# chapter slides as well as in this manual below)\n",
        "\n",
        "# Code:\n",
        "\n",
        "\n",
        "def minimax(node, depth, isMaximizingPlayer, alpha, beta):\n",
        "    if depth == 0 or len(node[1]) == 0:\n",
        "        return node[0]\n",
        "    if isMaximizingPlayer:\n",
        "        bestVal = float(\"-inf\")\n",
        "        for child in node[1]:\n",
        "            value = minimax(child, depth - 1, False, alpha, beta)\n",
        "            bestVal = max(bestVal, value)\n",
        "            alpha = max(alpha, bestVal)\n",
        "            if beta <= alpha:\n",
        "                break\n",
        "        return bestVal\n",
        "    else:\n",
        "        bestVal = float(\"inf\")\n",
        "        for child in node[1]:\n",
        "            value = minimax(child, depth - 1, True, alpha, beta)\n",
        "            bestVal = min(bestVal, value)\n",
        "            beta = min(beta, bestVal)\n",
        "            if beta <= alpha:\n",
        "                break\n",
        "        return bestVal\n",
        "\n",
        "\n",
        "tree = [\n",
        "    3,\n",
        "    [\n",
        "        [\n",
        "            5,\n",
        "            [[9, [[8, [], []], [6, [], []]]], [6, [], []]],\n",
        "            [2, [[3, [[1, [], []]], [7, [], []]]]],\n",
        "        ]\n",
        "    ],\n",
        "]\n",
        "\n",
        "print(minimax(tree, 3, True, float(\"-inf\"), float(\"inf\")))  # 5\n"
      ],
      "metadata": {
        "id": "4uQVTjeGM3I7"
      },
      "execution_count": null,
      "outputs": []
    }
  ]
}